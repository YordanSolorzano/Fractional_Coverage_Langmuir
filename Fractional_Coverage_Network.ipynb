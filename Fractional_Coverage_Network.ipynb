{
 "cells": [
  {
   "cell_type": "markdown",
   "id": "e999f350-3019-4249-88c9-e1db5ae1ff6c",
   "metadata": {},
   "source": [
    "# <center> Coverage of Networks Formation on Surfaces </center>\n"
   ]
  },
  {
   "cell_type": "markdown",
   "id": "55daa011-f99a-40f2-85cc-b39eab05591f",
   "metadata": {},
   "source": [
    "### Mechanisms of Self-Assembly on Overlayers\n",
    "\n",
    "In the study of self-assembly mechanisms, particularly in organometallic overlayers on various surfaces, the role of adatoms is crucial in dictating both the arrangement of molecules and the stability of the system. By employing theoretical approaches such as density functional theory (DFT) and scanning tunneling microscopy (STM), combined with the Langmuir Adsorption Isotherm, we explore adsorption equilibrium and its relationship with reaction kinetics. This methodology bridges experimental data with theoretical insights, offering a deeper understanding of charge transfer processes and their implications for the design and development of advanced materials, thus fostering innovations in technology and applications.\n",
    "\n",
    "In this work, we consider a chamber with a constant volume $ V$ containing a gas of $ N $molecules. Within this chamber, there is a finite surface discretized into $ n_{\\text{sites}} $ active binding sites, of which $ n_{\\text{occ}} $ are occupied.\n",
    "\n",
    "### Probability of Occupancy\n",
    "\n",
    "The number of available sites is \\( n_{\\text{sites}} - i \\), where \\( i \\) is the number of adatoms on the surface. The probability of a site being occupied is affected by previously occupied sites, and is expressed as:\n",
    "\n",
    "$$\\begin{equation}\n",
    "    P_{\\text{Nad}_i} = \\left( 1 - \\sum_{j=0}^{i-1} P_{\\text{Nad}_j} \\right) \\left( 1 - \\theta_{\\text{occupancy}} \\right)^{n_{\\text{sites}} - i}\n",
    "  \\end{equation}\n",
    "$$\n",
    "\n",
    "where $$ \\theta_{\\text{occupancy}} $$ is the surface occupancy probability, given by:\n",
    "\n",
    "$$\n",
    "\\theta_{\\text{occupancy}} = \\frac{\\exp\\left( \\frac{E_{\\text{bind}}}{k_B T} \\right)}{1 + \\exp\\left( \\frac{E_{\\text{bind}}}{k_B T} \\right)}\n",
    "$$\n",
    "\n",
    "The total coverage, $$ \\theta_* $$, is calculated as:\n",
    "\n",
    "$$\n",
    "\\theta_* = \\frac{1}{1 + C_0 K_{\\text{ads}} \\sum_{i=1}^{n} K_i}\n",
    "$$\n",
    "\n",
    "So, we can write each \\( \\theta_i \\) in relation to  the unoccupied spaces site, \\( \\theta_* \\), which  acts as a parameter that measures the fraction of the free surface area, serving as a reference for calculating the other regions: \n",
    "$$\n",
    "\\begin{equation}\n",
    "    \\theta_i = \\theta_* C_0 K_{\\text{ads}} K_i\n",
    "\\end{equation}\n",
    "$$\n"
   ]
  },
  {
   "cell_type": "markdown",
   "id": "30fce7ee-12c8-4643-8e24-fa63c9710ca8",
   "metadata": {},
   "source": [
    "Finally, we obtain a function that represents the product of the probabilistic distribution of adatoms and the adsorption of each species, $\\theta_i $, over a specific region. This function depends on the temperature $T$, which we can specify a range between $T_{\\text{min}} $ and $ T_{\\text{max}} $, the number of adatoms on the surface ($ n_{\\text{adatoms}} $), the number of active sites ($ n_{\\text{sites}} $), the binding energy of the surface ($ E_{\\text{bind}} $), and the adsorption energies of each formed structure ($ E_i $), as well as the initial concentration ($C_0 $). This relationship can be expressed as a product:\n"
   ]
  },
  {
   "cell_type": "markdown",
   "id": "842aac73-31b1-4dab-896a-aeff4b522d71",
   "metadata": {},
   "source": [
    "$$\\begin{align}\n",
    "    \\Theta_i [T, n_{\\text{adatoms}}, C_0, E_{\\text{bind}}, E_i] &= \\theta_i P_{\\text{Nad}_i} \\nonumber \\\\\n",
    "    &= \\left( 1 - \\sum_{j=0}^{i-1} P_{\\text{Nad}_j} \\right) \n",
    "    \\left( 1 - \\theta_{\\text{occupancy}} \\right)^{n_{\\text{sites}} - i} \n",
    "    \\frac{C_0 K_{\\text{ads}} K_i}{1 + C_0 K_{\\text{ads}} \\sum_{i=1}^{n} K_i}\n",
    "\\end{align}$$"
   ]
  },
  {
   "cell_type": "markdown",
   "id": "08461b6a-a576-4481-9e0b-2b5e2965a400",
   "metadata": {},
   "source": [
    "### Case Study and Computational Implementation"
   ]
  },
  {
   "cell_type": "markdown",
   "id": "ae7cc17f-51cc-4ec5-b5da-ebd3dc705d0e",
   "metadata": {},
   "source": [
    "#### Define Values of the input funcion"
   ]
  },
  {
   "cell_type": "code",
   "execution_count": 1,
   "id": "97a20fc8-75ff-4c46-95b9-5659f9bf5d49",
   "metadata": {},
   "outputs": [],
   "source": [
    "# Number of adatoms\n",
    "n_adatoms=6\n",
    "\n",
    "# Define the energies binding of each network calculated with DFT\n",
    "hexagonal=[0.182, -0.047, -0.251, -0.251, -0.251, -0.251, -0.251]\n",
    "rhombile=[0.317, 0.209, 0.106, -0.006, -0.142, -0.202, -0.146]\n",
    "triangular=[0.547, 0.547, 0.547, 0.138, 0.138, 0.138, 0.138]\n",
    "\n",
    "# Define a number of concentration of gas \n",
    "C_nPh6=1e-4\n",
    "\n",
    "# Define min and max range in temperature\n",
    "T_max=700\n",
    "T_min=200\n",
    "\n",
    "# Define the size of the surface\n",
    "n_sites=18*24\n",
    "\n",
    "# Define the range of energies binding \n",
    "e_bin_min=0\n",
    "e_bin_max=-0.67\n"
   ]
  },
  {
   "cell_type": "markdown",
   "id": "7ac8cac2-0de5-4f39-ab25-89ecf952a847",
   "metadata": {},
   "source": [
    "### Import the module of coverage"
   ]
  },
  {
   "cell_type": "code",
   "execution_count": 3,
   "id": "4ff487cd-a459-4f20-99d4-68150d0f2e1b",
   "metadata": {},
   "outputs": [
    {
     "name": "stdout",
     "output_type": "stream",
     "text": [
      "Directorio 'C:\\Users\\lenovo\\Desktop\\Thesis\\github\\results' creado o ya existente.\n"
     ]
    }
   ],
   "source": [
    "# Import a function from a folder \n",
    "from src.fractional_coverage_class import SurfaceCoverage\n"
   ]
  },
  {
   "cell_type": "code",
   "execution_count": 5,
   "id": "7b77c306-f236-4e6d-8432-9cb71eb6202a",
   "metadata": {},
   "outputs": [
    {
     "name": "stdout",
     "output_type": "stream",
     "text": [
      "GIF guardado como ./results/animation_6_adatoms.gif\n"
     ]
    },
    {
     "data": {
      "text/plain": [
       "'Complete Calculations'"
      ]
     },
     "execution_count": 5,
     "metadata": {},
     "output_type": "execute_result"
    }
   ],
   "source": [
    "# Create an instance of the SurfaceCoverage class\n",
    "\n",
    "surface_coverage = SurfaceCoverage(n_adatoms, hexagonal, rhombile, triangular, C_nPh6, T_max, T_min, n_sites)\n",
    "\n",
    "# Call the 'coverage_fractional_E_bind' method\n",
    "surface_coverage.coverage_fractional_E_bind(e_bin_min, e_bin_max)\n"
   ]
  },
  {
   "cell_type": "code",
   "execution_count": null,
   "id": "fbf602fc-b392-4af8-9927-4b8d7d204c2c",
   "metadata": {},
   "outputs": [],
   "source": []
  }
 ],
 "metadata": {
  "kernelspec": {
   "display_name": "Python [conda env:base] *",
   "language": "python",
   "name": "conda-base-py"
  },
  "language_info": {
   "codemirror_mode": {
    "name": "ipython",
    "version": 3
   },
   "file_extension": ".py",
   "mimetype": "text/x-python",
   "name": "python",
   "nbconvert_exporter": "python",
   "pygments_lexer": "ipython3",
   "version": "3.12.7"
  }
 },
 "nbformat": 4,
 "nbformat_minor": 5
}

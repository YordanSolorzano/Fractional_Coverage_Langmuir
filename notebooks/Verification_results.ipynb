{
 "cells": [
  {
   "cell_type": "markdown",
   "id": "12e98edc-0971-47de-b447-089b6ae28595",
   "metadata": {},
   "source": [
    "# Langmuir Isoterm Covergae "
   ]
  },
  {
   "cell_type": "markdown",
   "id": "c4b656b7-7e1d-4580-ad67-2cd000865b87",
   "metadata": {},
   "source": [
    "As the sum of all coeverage is equal to unit, we can use the following process to verify the principal code. \n"
   ]
  },
  {
   "cell_type": "code",
   "execution_count": null,
   "id": "bc30adb8",
   "metadata": {},
   "outputs": [],
   "source": [
    "# Import libraries \n",
    "import pandas as pd\n"
   ]
  },
  {
   "cell_type": "markdown",
   "id": "b0cc9076",
   "metadata": {},
   "source": [
    "### Verification proces "
   ]
  },
  {
   "cell_type": "code",
   "execution_count": null,
   "id": "c0505b50",
   "metadata": {},
   "outputs": [],
   "source": [
    "#import coverage_{i} dataframe \n",
    "coverage_0    = pd.read_csv('./results/coverage_adatom_0.dat', sep= \" \", header=None)\n",
    "coverage_1    = pd.read_csv('./results/coverage_adatom_1.dat', sep= \" \", header=None)\n",
    "coverage_2    = pd.read_csv('./results/coverage_adatom_2.dat', sep= \" \", header=None)\n",
    "coverage_3    = pd.read_csv('./results/coverage_adatom_3.dat', sep= \" \", header=None)\n",
    "coverage_4    = pd.read_csv('./results/coverage_adatom_4.dat', sep= \" \", header=None)\n",
    "coverage_5    = pd.read_csv('./results/coverage_adatom_5.dat', sep= \" \", header=None)\n",
    "coverage_6    = pd.read_csv('./results/coverage_adatom_6.dat', sep= \" \", header=None)\n",
    "coverage_more = pd.read_csv('./results/coverage_adatom_more.dat', sep= \" \", header=None)"
   ]
  },
  {
   "cell_type": "code",
   "execution_count": null,
   "id": "ce2933d5",
   "metadata": {},
   "outputs": [],
   "source": [
    "# Lista de DataFrames\n",
    "dataframes = [coverage_0, coverage_1, coverage_2, coverage_3,coverage_4, coverage_5 , coverage_6, coverage_more]\n",
    "\n",
    "# Excluir la primera fila y la primera columna de cada DataFrame\n",
    "excluded_dfs = [df.iloc[:, 1:] for df in dataframes]\n",
    "\n",
    "# Sumar todas las columnas de los DataFrames excluidos\n",
    "sum_columns_general = sum(df.sum(axis=1) for df in excluded_dfs)\n",
    "\n",
    "# Crear un nuevo DataFrame con la suma total\n",
    "result_df = pd.DataFrame(sum_columns_general, columns=['Total Sum'])\n",
    "\n",
    "# Mostrar el resultado\n",
    "print(\"Suma total de todas las columnas (excluye la primera columna):\\n\", result_df)"
   ]
  },
  {
   "cell_type": "code",
   "execution_count": null,
   "id": "cab33abb",
   "metadata": {},
   "outputs": [],
   "source": []
  },
  {
   "cell_type": "code",
   "execution_count": null,
   "id": "459c6328",
   "metadata": {},
   "outputs": [],
   "source": []
  }
 ],
 "metadata": {
  "kernelspec": {
   "display_name": "Python [conda env:base] *",
   "language": "python",
   "name": "conda-base-py"
  },
  "language_info": {
   "codemirror_mode": {
    "name": "ipython",
    "version": 3
   },
   "file_extension": ".py",
   "mimetype": "text/x-python",
   "name": "python",
   "nbconvert_exporter": "python",
   "pygments_lexer": "ipython3",
   "version": "3.12.7"
  }
 },
 "nbformat": 4,
 "nbformat_minor": 5
}
